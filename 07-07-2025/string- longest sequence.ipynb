{
 "cells": [
  {
   "cell_type": "code",
   "execution_count": 9,
   "id": "ce63f91b",
   "metadata": {},
   "outputs": [
    {
     "name": "stdout",
     "output_type": "stream",
     "text": [
      "p\n",
      "pw\n",
      "wk\n",
      "wke\n",
      "wkew\n",
      "3\n"
     ]
    }
   ],
   "source": [
    "def find(s,left,right):\n",
    "    dict1={}\n",
    "    count=0\n",
    "    maxi=0\n",
    "    while right!=len(s):\n",
    "        \n",
    "        if s[right] not in dict1:\n",
    "            dict1[s[right]]=1\n",
    "            right+=1\n",
    "            count+=1\n",
    "            print(s[left:right])\n",
    "            maxi=max(count,maxi)\n",
    "        else:\n",
    "            count=0\n",
    "            dict1={}\n",
    "            left=right\n",
    "            right+=1\n",
    "    return maxi\n",
    "            \n",
    "        \n",
    "        \n",
    "        \n",
    "    \n",
    "\n",
    "s = \"pwwkew\"\n",
    "left=0\n",
    "right=0\n",
    "result=find(s,left,right)\n",
    "print(result)"
   ]
  },
  {
   "cell_type": "code",
   "execution_count": 20,
   "id": "2394ce84",
   "metadata": {},
   "outputs": [
    {
     "name": "stdout",
     "output_type": "stream",
     "text": [
      "{'a': 1}\n",
      "{'a': 1, 'b': 1}\n",
      "{'a': 1, 'b': 1, 'c': 1}\n",
      "{'a': 1}\n",
      "{'a': 1, 'b': 1}\n",
      "{'a': 1, 'b': 1, 'c': 1}\n",
      "{'b': 1}\n",
      "{'b': 1}\n",
      "3\n"
     ]
    }
   ],
   "source": [
    "# usinf recursion\n",
    "def find(s,left,right,dict1,maxi):\n",
    "    if right==len(s):\n",
    "        return maxi\n",
    "    elif s[right] not in dict1:\n",
    "        dict1[s[right]]=1\n",
    "        \n",
    "        print(dict1)\n",
    "        return find(s,left,right+1,dict1,maxi)\n",
    "    else:\n",
    "        maxi=max(maxi,len(s[left:right]))\n",
    "        dict1={}\n",
    "        return find(s,right,right,dict1,maxi)\n",
    "    \n",
    "s = \"abcabcbb\"\n",
    "left=0\n",
    "right=0\n",
    "dict1={}\n",
    "maxi=0\n",
    "result=find(s,left,right,dict1,maxi)\n",
    "print(result)"
   ]
  },
  {
   "cell_type": "code",
   "execution_count": null,
   "id": "d1b669aa",
   "metadata": {},
   "outputs": [],
   "source": []
  }
 ],
 "metadata": {
  "kernelspec": {
   "display_name": "Python 3 (ipykernel)",
   "language": "python",
   "name": "python3"
  },
  "language_info": {
   "codemirror_mode": {
    "name": "ipython",
    "version": 3
   },
   "file_extension": ".py",
   "mimetype": "text/x-python",
   "name": "python",
   "nbconvert_exporter": "python",
   "pygments_lexer": "ipython3",
   "version": "3.9.13"
  }
 },
 "nbformat": 4,
 "nbformat_minor": 5
}
