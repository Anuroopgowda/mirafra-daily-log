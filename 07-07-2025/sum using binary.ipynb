{
 "cells": [
  {
   "cell_type": "code",
   "execution_count": 3,
   "id": "c029ae95",
   "metadata": {},
   "outputs": [
    {
     "name": "stdout",
     "output_type": "stream",
     "text": [
      "25\n"
     ]
    }
   ],
   "source": [
    "# use XOR \"^\" because it dont give carry if 01  the 1 vice versa\n",
    "# then use and to get separate carry and do left shift\n",
    "# until the carry is 0 do\n",
    "def add(a,b):\n",
    "    while b!=0:\n",
    "        sum1=a ^ b\n",
    "        carry=(a&b)<<1\n",
    "        a=sum1\n",
    "        b=carry\n",
    "    return a\n",
    "\n",
    "a=15\n",
    "b=10\n",
    "result=add(a,b)\n",
    "print(result)"
   ]
  },
  {
   "cell_type": "code",
   "execution_count": 2,
   "id": "2a824109",
   "metadata": {},
   "outputs": [
    {
     "name": "stdout",
     "output_type": "stream",
     "text": [
      "The sum is: 25\n"
     ]
    }
   ],
   "source": [
    "def add(a, b):\n",
    "    while b != 0:\n",
    "        # XOR adds the numbers without carrying\n",
    "        sum_without_carry = a ^ b\n",
    "        # AND followed by left shift gives the carry\n",
    "        carry = (a & b) << 1\n",
    "        # Update a and b\n",
    "        a = sum_without_carry\n",
    "        b = carry\n",
    "    return a\n",
    "\n",
    "# Example usage\n",
    "a = 15\n",
    "b = 10\n",
    "result = add(a, b)\n",
    "print(\"The sum is:\", result)"
   ]
  },
  {
   "cell_type": "code",
   "execution_count": 9,
   "id": "6046313e",
   "metadata": {},
   "outputs": [
    {
     "name": "stdout",
     "output_type": "stream",
     "text": [
      "30\n"
     ]
    }
   ],
   "source": [
    "# no of 1 bit\n",
    "n=2147483645\n",
    "count=0\n",
    "while n!=0:\n",
    "    if n%2==1:\n",
    "        count+=1\n",
    "    n=n//2\n",
    "print(count)\n",
    "    "
   ]
  },
  {
   "cell_type": "code",
   "execution_count": 2,
   "id": "b34dc5e9",
   "metadata": {},
   "outputs": [
    {
     "name": "stdout",
     "output_type": "stream",
     "text": [
      "8\n"
     ]
    }
   ],
   "source": [
    "# find the missing number in the range\n",
    "nums = [9,6,4,2,3,5,7,0,1]\n",
    "sum1=0\n",
    "for i in range(len(nums)):\n",
    "    sum1+=i\n",
    "    sum1-=nums[i]\n",
    "sum1+=len(nums)\n",
    "print(sum1)\n",
    "    "
   ]
  },
  {
   "cell_type": "code",
   "execution_count": null,
   "id": "0ec97caf",
   "metadata": {},
   "outputs": [],
   "source": []
  }
 ],
 "metadata": {
  "kernelspec": {
   "display_name": "Python 3 (ipykernel)",
   "language": "python",
   "name": "python3"
  },
  "language_info": {
   "codemirror_mode": {
    "name": "ipython",
    "version": 3
   },
   "file_extension": ".py",
   "mimetype": "text/x-python",
   "name": "python",
   "nbconvert_exporter": "python",
   "pygments_lexer": "ipython3",
   "version": "3.9.13"
  }
 },
 "nbformat": 4,
 "nbformat_minor": 5
}
