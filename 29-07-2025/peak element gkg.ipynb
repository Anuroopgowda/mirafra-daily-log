{
 "cells": [
  {
   "cell_type": "code",
   "execution_count": 7,
   "id": "d21021a4",
   "metadata": {},
   "outputs": [
    {
     "name": "stdout",
     "output_type": "stream",
     "text": [
      "[0, 1, 3, 5, 6]\n"
     ]
    }
   ],
   "source": [
    "def peakElement(arr, n):\n",
    "        # Code here\n",
    "        lst=[]\n",
    "        if n>1:\n",
    "            for i in range(n):\n",
    "                if i==0:\n",
    "                    if arr[i]>=arr[i+1]:\n",
    "                        lst.append(i)\n",
    "                        \n",
    "                elif i==n-1:\n",
    "                    if arr[i]>=arr[i-1]:\n",
    "                        lst.append(i)\n",
    "                else:\n",
    "                    if arr[i]>=arr[i-1] and arr[i]>=arr[i+1]:\n",
    "                        lst.append(i)\n",
    "            return lst\n",
    "        elif n==1:\n",
    "            lst.append(i)\n",
    "            return lst\n",
    "        else:\n",
    "            return\n",
    "        \n",
    "n=7\n",
    "arr=[1, 1, 1, 2, 1, 1, 1]\n",
    "index=peakElement(arr,n)\n",
    "print(index)"
   ]
  },
  {
   "cell_type": "code",
   "execution_count": null,
   "id": "ab4a48ee",
   "metadata": {},
   "outputs": [],
   "source": []
  }
 ],
 "metadata": {
  "kernelspec": {
   "display_name": "Python 3 (ipykernel)",
   "language": "python",
   "name": "python3"
  },
  "language_info": {
   "codemirror_mode": {
    "name": "ipython",
    "version": 3
   },
   "file_extension": ".py",
   "mimetype": "text/x-python",
   "name": "python",
   "nbconvert_exporter": "python",
   "pygments_lexer": "ipython3",
   "version": "3.9.13"
  }
 },
 "nbformat": 4,
 "nbformat_minor": 5
}
