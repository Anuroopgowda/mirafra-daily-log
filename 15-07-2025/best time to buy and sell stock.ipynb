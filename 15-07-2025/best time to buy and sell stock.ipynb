{
 "cells": [
  {
   "cell_type": "code",
   "execution_count": 9,
   "id": "166a9449",
   "metadata": {},
   "outputs": [
    {
     "name": "stdout",
     "output_type": "stream",
     "text": [
      "0\n"
     ]
    }
   ],
   "source": [
    "#using kadene's algm \n",
    "#n time complexity\n",
    "# basically traversing through the array and then updating the values while traversing\n",
    "\n",
    "prices = [7,6,4,3,1]\n",
    "price=prices[0]\n",
    "profit=0\n",
    "for i in range(1,len(prices)):\n",
    "    if price>prices[i]:\n",
    "        price=prices[i]\n",
    "        \n",
    "    else:\n",
    "        nwprofit=prices[i]-price\n",
    "        \n",
    "        profit=max(nwprofit,profit)\n",
    "print(profit)"
   ]
  },
  {
   "cell_type": "code",
   "execution_count": null,
   "id": "eb9b2c8b",
   "metadata": {},
   "outputs": [],
   "source": []
  }
 ],
 "metadata": {
  "kernelspec": {
   "display_name": "Python 3 (ipykernel)",
   "language": "python",
   "name": "python3"
  },
  "language_info": {
   "codemirror_mode": {
    "name": "ipython",
    "version": 3
   },
   "file_extension": ".py",
   "mimetype": "text/x-python",
   "name": "python",
   "nbconvert_exporter": "python",
   "pygments_lexer": "ipython3",
   "version": "3.9.13"
  }
 },
 "nbformat": 4,
 "nbformat_minor": 5
}
