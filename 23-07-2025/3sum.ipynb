{
 "cells": [
  {
   "cell_type": "code",
   "execution_count": null,
   "id": "2efdebf0",
   "metadata": {},
   "outputs": [],
   "source": [
    "\n",
    "        "
   ]
  },
  {
   "cell_type": "code",
   "execution_count": 4,
   "id": "a688fd75",
   "metadata": {},
   "outputs": [
    {
     "name": "stdout",
     "output_type": "stream",
     "text": [
      "{-1: 1, 0: 1, 1: 1, 2: 1, -4: 1}\n",
      "2\n"
     ]
    }
   ],
   "source": [
    "nums = [-1,0,1,2,-1,-4]\n",
    "target=0\n",
    "dict={}\n",
    "count=0\n",
    "for i in nums:\n",
    "    diff=0-i\n",
    "    if diff in dict:\n",
    "        count+=1\n",
    "    dict[i]=1\n",
    "print(dict)\n",
    "print(count)"
   ]
  },
  {
   "cell_type": "code",
   "execution_count": 11,
   "id": "dc49d2b7",
   "metadata": {},
   "outputs": [
    {
     "name": "stdout",
     "output_type": "stream",
     "text": [
      "{(-1, 0, 1), (-1, -1, 2)}\n"
     ]
    }
   ],
   "source": [
    "# correct approach\n",
    "nums = [-1,0,1,2,-1,-4]\n",
    "target=0\n",
    "nums.sort()\n",
    "dict1=set()\n",
    "for i in range(len(nums)-3):\n",
    "    total=nums[i]\n",
    "    left=i+1\n",
    "    right=len(nums)-1\n",
    "    while  left<right:\n",
    "        total+=nums[left]+nums[right]\n",
    "        if total==target:\n",
    "            \n",
    "            dict1.add((nums[i],nums[left],nums[right]))\n",
    "        \n",
    "            left+=1\n",
    "            right-=1\n",
    "        elif total<target:\n",
    "            left+=1\n",
    "            total=nums[i]\n",
    "        else:\n",
    "            right-=1\n",
    "            total=nums[i]\n",
    "print(dict1)\n",
    "            "
   ]
  },
  {
   "cell_type": "code",
   "execution_count": null,
   "id": "7975f988",
   "metadata": {},
   "outputs": [],
   "source": []
  },
  {
   "cell_type": "code",
   "execution_count": null,
   "id": "520ee551",
   "metadata": {},
   "outputs": [],
   "source": []
  }
 ],
 "metadata": {
  "kernelspec": {
   "display_name": "Python 3 (ipykernel)",
   "language": "python",
   "name": "python3"
  },
  "language_info": {
   "codemirror_mode": {
    "name": "ipython",
    "version": 3
   },
   "file_extension": ".py",
   "mimetype": "text/x-python",
   "name": "python",
   "nbconvert_exporter": "python",
   "pygments_lexer": "ipython3",
   "version": "3.9.13"
  }
 },
 "nbformat": 4,
 "nbformat_minor": 5
}
