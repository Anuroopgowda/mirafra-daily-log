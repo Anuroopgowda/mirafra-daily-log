{
 "cells": [
  {
   "cell_type": "code",
   "execution_count": 6,
   "id": "6c4168bd",
   "metadata": {},
   "outputs": [
    {
     "name": "stdout",
     "output_type": "stream",
     "text": [
      "5\n"
     ]
    }
   ],
   "source": [
    "# no of ways we can climb a stairs with 1 or two steps\n",
    "# we can use 1.decision tree(2*depth of tree) complexity\n",
    "# 2.DP O(n)\n",
    "# fibonnci\n",
    "def fibo(n):\n",
    "    first=1\n",
    "    second=1\n",
    "    for i in range(n-1):\n",
    "        next1=first+second\n",
    "        first=second\n",
    "        second=next1\n",
    "    return second\n",
    "\n",
    "n=4\n",
    "result=fibo(n)\n",
    "print(result)"
   ]
  },
  {
   "cell_type": "code",
   "execution_count": null,
   "id": "3f85c7a1",
   "metadata": {},
   "outputs": [],
   "source": []
  }
 ],
 "metadata": {
  "kernelspec": {
   "display_name": "Python 3 (ipykernel)",
   "language": "python",
   "name": "python3"
  },
  "language_info": {
   "codemirror_mode": {
    "name": "ipython",
    "version": 3
   },
   "file_extension": ".py",
   "mimetype": "text/x-python",
   "name": "python",
   "nbconvert_exporter": "python",
   "pygments_lexer": "ipython3",
   "version": "3.9.13"
  }
 },
 "nbformat": 4,
 "nbformat_minor": 5
}
