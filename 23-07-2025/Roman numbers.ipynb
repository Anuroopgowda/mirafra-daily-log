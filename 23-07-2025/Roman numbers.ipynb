{
 "cells": [
  {
   "cell_type": "code",
   "execution_count": 9,
   "id": "a6756c09",
   "metadata": {},
   "outputs": [
    {
     "name": "stdout",
     "output_type": "stream",
     "text": [
      "XXXXIV\n"
     ]
    }
   ],
   "source": [
    "lst1=[1,5,10,50,100]\n",
    "dict1={1:'I',5:'V',10:'X',50:'L',100:'C'}\n",
    "num=44\n",
    "str1=''\n",
    "while num!=0:\n",
    "    for i in range(len(lst1)):\n",
    "        if num==lst1[i]:\n",
    "            str1+=dict1[lst1[i]]\n",
    "            num-=lst1[i]\n",
    "            break\n",
    "        elif lst1[i]-num==1:\n",
    "            str1+=dict1[1]\n",
    "            str1+=dict1[lst1[i]]\n",
    "            num-=lst1[i]-1\n",
    "            break\n",
    "        elif num<lst1[i]:\n",
    "            str1+=dict1[lst1[i-1]]\n",
    "            num-=lst1[i-1]\n",
    "            break\n",
    "        elif lst1[i]==100 and num>100:\n",
    "            str1+=dict1[lst1[i]]\n",
    "            num-=lst1[i]\n",
    "            break\n",
    "            \n",
    "\n",
    "    \n",
    "            \n",
    "print(str1)\n",
    "            "
   ]
  },
  {
   "cell_type": "code",
   "execution_count": null,
   "id": "f5399d94",
   "metadata": {},
   "outputs": [],
   "source": []
  },
  {
   "cell_type": "code",
   "execution_count": null,
   "id": "dbd7f7cd",
   "metadata": {},
   "outputs": [],
   "source": []
  }
 ],
 "metadata": {
  "kernelspec": {
   "display_name": "Python 3 (ipykernel)",
   "language": "python",
   "name": "python3"
  },
  "language_info": {
   "codemirror_mode": {
    "name": "ipython",
    "version": 3
   },
   "file_extension": ".py",
   "mimetype": "text/x-python",
   "name": "python",
   "nbconvert_exporter": "python",
   "pygments_lexer": "ipython3",
   "version": "3.9.13"
  }
 },
 "nbformat": 4,
 "nbformat_minor": 5
}
